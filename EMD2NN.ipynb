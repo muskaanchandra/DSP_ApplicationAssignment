{
  "nbformat": 4,
  "nbformat_minor": 0,
  "metadata": {
    "colab": {
      "name": "EMD2NN.ipynb",
      "provenance": []
    },
    "kernelspec": {
      "name": "python3",
      "display_name": "Python 3"
    },
    "language_info": {
      "name": "python"
    }
  },
  "cells": [
    {
      "cell_type": "code",
      "source": [
        "import math\n",
        "import numpy as np"
      ],
      "metadata": {
        "id": "E6eC0MuIYPX-"
      },
      "execution_count": null,
      "outputs": []
    },
    {
      "cell_type": "code",
      "source": [
        "import matplotlib.pyplot as plt\n",
        "import pywt\n",
        "import sys\n",
        "import pandas as pd\n",
        "\n",
        "# Data format:\n",
        "# Raw data should be in a .txt file with two columns, separated by tabs:\n",
        "#  - The first column should be a time-series index\n",
        "#  - The second column should contain the data to be filtered\n",
        "\n",
        "# Get data:\n",
        "data = pd.read_csv (\"NASDAQ (1).csv\")\n",
        "index = data.iloc[:,0].values\n",
        "Data = data.iloc[:,1].values\n",
        "print(index)\n",
        "print(Data)"
      ],
      "metadata": {
        "id": "wkEwtVGrS9Oq",
        "outputId": "b83a98a5-23aa-4272-9b5a-ad28144a1060",
        "colab": {
          "base_uri": "https://localhost:8080/"
        }
      },
      "execution_count": null,
      "outputs": [
        {
          "output_type": "stream",
          "name": "stdout",
          "text": [
            "['2012/1/3' '2012/1/4' '2012/1/5' ... '2016/12/21' '2016/12/22'\n",
            " '2016/12/23']\n",
            "[2648.72 2648.36 2669.86 ... 5471.43 5447.42 5462.69]\n"
          ]
        }
      ]
    },
    {
      "cell_type": "code",
      "source": [
        "# read the data and construct the training, validation and test datasets\n",
        "def construct_datasets(file_name, output_len, wnd_size):\n",
        "    \n",
        "    data = np.loadtxt(open(file_name, 'rb'), delimiter=',', skiprows=0)\n",
        "    \n",
        "    min_data = np.min(data) #maximum over all possible IMFs and time\n",
        "    max_data = np.max(data)\n",
        "    norm_data = (data - min_data) / (max_data - min_data)\n",
        "    sum_data = np.sum(norm_data, axis = 1) #sum of all IMFs, which is the closing price for that day\n",
        "    data_len = sum_data.shape[0] #total number of days of data\n",
        "    sample_num = data_len -  wnd_size - output_len + 1  #total number of samples in the data\n",
        " \n",
        "    # construct the samples from the time series's IMFs\n",
        "    feats_num = wnd_size * data.shape[1]\n",
        "    X = np.zeros((sample_num, feats_num + output_len))\n",
        "    for i in range(sample_num):\n",
        "        X[i, : -output_len] = norm_data[i : i + wnd_size, :].reshape(feats_num)\n",
        "        X[i, - output_len :] = sum_data[i + wnd_size : i + wnd_size + output_len]\n",
        "   \n",
        "    #np.random.shuffle(X) # shuffle the samples (optional)\n",
        "    \n",
        "    # divide the samples into training, validation and test datases as the ratio 7:2:1\n",
        "    train_num = int(math.floor(0.7 * sample_num))\n",
        "    validate_num = int(math.floor(0.2 * sample_num))\n",
        "    test_num = int(math.floor(0.1 * sample_num))\n",
        "\n",
        "\n",
        "    train_X = X[: train_num, : - output_len]\n",
        "    validate_X = X[train_num : train_num + validate_num, : - output_len]\n",
        "    test_X = X[train_num + validate_num :, : - output_len]\n",
        "    \n",
        "    train_Y = X[: train_num, - output_len :]\n",
        "    validate_Y = X[train_num : train_num + validate_num, - output_len :]\n",
        "    test_Y = X[train_num + validate_num :, - output_len :]\n",
        "    \n",
        "    return norm_data, max_data, min_data, train_X, train_Y, validate_X, \\\n",
        "        validate_Y, test_X, test_Y\n",
        "\n",
        "norm_data, max_data, min_data, train_X, train_Y, validate_X, validate_Y, test_X, test_Y = construct_datasets('NASDAQ_imf.csv', 1, 3)\n",
        "    "
      ],
      "metadata": {
        "id": "0uQnCkZxaFGo"
      },
      "execution_count": null,
      "outputs": []
    },
    {
      "cell_type": "code",
      "source": [
        "import tensorflow as tf\n",
        "from tensorflow.keras.layers import  Dense, Dropout, LSTM\n",
        "from tensorflow.keras.models import Sequential,load_model\n",
        "from tensorflow.keras.optimizers import Adam\n",
        "\n",
        "#A simple sequential model, to view the architecture uncomment the model.summary line\n",
        "model = Sequential()\n",
        "model.add(LSTM(16,input_shape=(train_X.shape[1],)))\n",
        "model.add(Dense(128))\n",
        "model.add(Dropout(0.25))\n",
        "model.add(Dense(32,activation=\"relu\"))\n",
        "model.add(Dropout(0.25))\n",
        "model.add(Dense(8))\n",
        "model.add(Dropout(0.25))\n",
        "model.add(Dense(1))\n",
        "\n",
        "model.compile(optimizer=\"Adam\", loss='mse', metrics=[tf.keras.metrics.RootMeanSquaredError(name=\"rmse\"), tf.keras.metrics.MeanSquaredError(name=\"mse\")])\n",
        "\n",
        "model.summary()\n",
        "\n",
        "model.fit(train_X, train_Y, epochs = 248, batch_size = 25,validation_data=(validate_X, validate_Y))\n",
        "\n",
        "model.save('model1')\n",
        " "
      ],
      "metadata": {
        "id": "mP22oOhDaFCq"
      },
      "execution_count": null,
      "outputs": []
    },
    {
      "cell_type": "code",
      "source": [
        "model = load_model('model1')\n",
        "stock_predicted = model.predict(test_X)\n",
        "print(f\"MSE is {np.sum(np.square(stock_predicted -test_Y))/(test_Y.shape[0])}\")"
      ],
      "metadata": {
        "id": "L3a6FjTXaE8E"
      },
      "execution_count": null,
      "outputs": []
    },
    {
      "cell_type": "code",
      "source": [
        "test_Y_unn =  test_Y*(max_data - min_data) + (min_data*norm_data.shape[1])\n",
        "stock_predicted_unn = model.predict(test_X)*(max_data - min_data) + (min_data*norm_data.shape[1])\n",
        "\n"
      ],
      "metadata": {
        "id": "lGy9hpAbcJJv"
      },
      "execution_count": null,
      "outputs": []
    },
    {
      "cell_type": "code",
      "source": [
        "import matplotlib.pyplot as plt\n",
        "\n",
        "plt.plot(test_Y_unn)\n",
        "plt.plot(stock_predicted_unn)\n",
        "plt.title('stock price')\n",
        "plt.ylabel('stock price')\n",
        "plt.xlabel('time')\n",
        "plt.legend(['Actual Data','EMDtoNN'],loc='lower right')\n",
        "plt.show()"
      ],
      "metadata": {
        "colab": {
          "base_uri": "https://localhost:8080/",
          "height": 295
        },
        "id": "2d2cH9Ck8Vj6",
        "outputId": "fb941d29-6e9c-458f-d16c-12f6a0b4ccb8"
      },
      "execution_count": null,
      "outputs": [
        {
          "output_type": "display_data",
          "data": {
            "text/plain": [
              "<Figure size 432x288 with 1 Axes>"
            ],
            "image/png": "[encoded data removed]"
          },
          "metadata": {
            "needs_background": "light"
          }
        }
      ]
    },
    {
      "cell_type": "code",
      "source": [
        "# convert array into dataframe\n",
        "DF = pd.DataFrame(stock_predicted_unn)\n",
        "  \n",
        "# save the dataframe as a csv file\n",
        "DF.to_csv(\"Predicted_EMDtoNN.csv\")"
      ],
      "metadata": {
        "id": "uyyykwRYM4m_"
      },
      "execution_count": null,
      "outputs": []
    },
    {
      "cell_type": "code",
      "source": [
        "import pandas as pd"
      ],
      "metadata": {
        "id": "4ciBOvmpM-qP"
      },
      "execution_count": null,
      "outputs": []
    }
  ]
}