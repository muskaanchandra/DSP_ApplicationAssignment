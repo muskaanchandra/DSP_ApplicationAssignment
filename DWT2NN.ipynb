{
  "nbformat": 4,
  "nbformat_minor": 0,
  "metadata": {
    "colab": {
      "name": "DWT2NN.ipynb",
      "provenance": []
    },
    "kernelspec": {
      "name": "python3",
      "display_name": "Python 3"
    },
    "language_info": {
      "name": "python"
    },
    "accelerator": "GPU"
  },
  "cells": [
    {
      "cell_type": "code",
      "source": [
        "import math\n",
        "import numpy as np\n",
        "import pandas as pd"
      ],
      "metadata": {
        "id": "E6eC0MuIYPX-"
      },
      "execution_count": null,
      "outputs": []
    },
    {
      "cell_type": "code",
      "source": [
        "import matplotlib.pyplot as plt\n",
        "import pywt\n",
        "import sys\n",
        "import pandas as pd\n",
        "\n",
        "# Data format:\n",
        "# Raw data should be in a .txt file with two columns, separated by tabs:\n",
        "#  - The first column should be a time-series index\n",
        "#  - The second column should contain the data to be filtered\n",
        "\n",
        "# Get data:\n",
        "data = pd.read_csv (\"NASDAQ (1).csv\")\n",
        "index = data.iloc[:,0].values\n",
        "Data = data.iloc[:,1].values\n",
        "print(index)\n",
        "print(Data)"
      ],
      "metadata": {
        "colab": {
          "base_uri": "https://localhost:8080/"
        },
        "id": "O8NCfBNaaqfs",
        "outputId": "703ada07-5022-451d-ecac-3d4c7f270d85"
      },
      "execution_count": null,
      "outputs": [
        {
          "output_type": "stream",
          "name": "stdout",
          "text": [
            "['2012/1/3' '2012/1/4' '2012/1/5' ... '2016/12/21' '2016/12/22'\n",
            " '2016/12/23']\n",
            "[2648.72 2648.36 2669.86 ... 5471.43 5447.42 5462.69]\n"
          ]
        }
      ]
    },
    {
      "cell_type": "code",
      "source": [
        "# Create wavelet object and define parameters\n",
        "w = pywt.Wavelet('haar')\n",
        "maxlev = pywt.dwt_max_level(len(Data), w.dec_len)\n",
        "maxlev= 3\n",
        "print(\"maximum level is \" + str(maxlev))\n",
        "threshold = 0.04 # Threshold for filtering\n",
        "\n",
        "# Decompose into wavelet components, to the level selected:\n",
        "coeffs = pywt.wavedec(Data, 'haar', level=maxlev)\n"
      ],
      "metadata": {
        "colab": {
          "base_uri": "https://localhost:8080/"
        },
        "id": "i4WDTHmJarMK",
        "outputId": "3a2291f1-6708-4f5a-9069-45b59afc2c61"
      },
      "execution_count": null,
      "outputs": [
        {
          "output_type": "stream",
          "name": "stdout",
          "text": [
            "maximum level is 3\n"
          ]
        }
      ]
    },
    {
      "cell_type": "code",
      "source": [
        "datarec = pywt.waverec(coeffs, 'haar')[:-1]"
      ],
      "metadata": {
        "id": "CYSpdXWAauHA"
      },
      "execution_count": null,
      "outputs": []
    },
    {
      "cell_type": "code",
      "source": [
        "datarec.shape"
      ],
      "metadata": {
        "colab": {
          "base_uri": "https://localhost:8080/"
        },
        "id": "JG3Uxk6GayKZ",
        "outputId": "5c64eb95-68ff-4c61-d9bb-d00c3adb13a3"
      },
      "execution_count": null,
      "outputs": [
        {
          "output_type": "execute_result",
          "data": {
            "text/plain": [
              "(1255,)"
            ]
          },
          "metadata": {},
          "execution_count": 5
        }
      ]
    },
    {
      "cell_type": "code",
      "source": [
        "data = datarec"
      ],
      "metadata": {
        "id": "H-CVKsn-r_g_"
      },
      "execution_count": null,
      "outputs": []
    },
    {
      "cell_type": "code",
      "source": [
        "wnd_size = 3\n",
        "output_len=1"
      ],
      "metadata": {
        "id": "ZObBf_Mut2cv"
      },
      "execution_count": null,
      "outputs": []
    },
    {
      "cell_type": "code",
      "source": [
        "min_data = np.min(data) #maximum over all possible IMFs and time\n",
        "max_data = np.max(data)\n",
        "norm_data = (data - min_data) / (max_data - min_data)"
      ],
      "metadata": {
        "id": "vXTwI21ntpnw"
      },
      "execution_count": null,
      "outputs": []
    },
    {
      "cell_type": "code",
      "source": [
        "data_len = data.shape[0] #total number of days of data\n",
        "sample_num = data_len - wnd_size - output_len + 1  #total number of samples in the data"
      ],
      "metadata": {
        "id": "ZMXWqjuNtrpI"
      },
      "execution_count": null,
      "outputs": []
    },
    {
      "cell_type": "code",
      "source": [
        "X = np.zeros((sample_num, wnd_size + output_len))\n",
        "for i in range(sample_num):\n",
        "  X[i] = norm_data[i : i + wnd_size + 1]"
      ],
      "metadata": {
        "id": "Hdi5SxYet9hb"
      },
      "execution_count": null,
      "outputs": []
    },
    {
      "cell_type": "code",
      "source": [
        "# divide the samples into training, validation and test datases as the ratio 7:2:1\n",
        "train_num = int(math.floor(0.7 * sample_num))\n",
        "validate_num = int(math.floor(0.2 * sample_num))\n",
        "test_num = int(math.floor(0.1 * sample_num))\n"
      ],
      "metadata": {
        "id": "rtaadXvdurQi"
      },
      "execution_count": null,
      "outputs": []
    },
    {
      "cell_type": "code",
      "source": [
        "train_X = X[: train_num, : wnd_size]\n",
        "train_Y = X[: train_num, wnd_size :]\n",
        "\n",
        "validate_X = X[train_num : train_num + validate_num, : wnd_size]\n",
        "test_X = X[train_num + validate_num :, : wnd_size]\n",
        "\n",
        "    \n",
        "validate_Y = X[train_num : train_num + validate_num, wnd_size :]\n",
        "test_Y = X[train_num + validate_num :, wnd_size :]"
      ],
      "metadata": {
        "id": "P2Tt7rXsuvOd"
      },
      "execution_count": null,
      "outputs": []
    },
    {
      "cell_type": "code",
      "source": [
        "import tensorflow as tf\n",
        "from tensorflow.keras.layers import  Dense, Dropout, LSTM\n",
        "from tensorflow.keras.models import Sequential,load_model\n",
        "from tensorflow.keras.optimizers import Adam\n",
        "\n",
        "#A simple sequential model, to view the architecture uncomment the model.summary line\n",
        "model = Sequential()\n",
        "model.add(LSTM(16,input_shape=(train_X.shape[1],1)))\n",
        "model.add(Dense(128))\n",
        "model.add(Dropout(0.25))\n",
        "model.add(Dense(32,activation=\"relu\"))\n",
        "model.add(Dropout(0.25))\n",
        "model.add(Dense(8))\n",
        "model.add(Dropout(0.25))\n",
        "model.add(Dense(1))\n",
        "\n",
        "model.compile(optimizer=\"Adam\", loss='mse', metrics=[tf.keras.metrics.RootMeanSquaredError(name=\"rmse\"), tf.keras.metrics.MeanSquaredError(name=\"mse\")])\n",
        "\n",
        "model.summary()\n",
        "\n",
        "history = model.fit(train_X, train_Y, epochs = 248, batch_size = 25,validation_data=(validate_X, validate_Y))\n",
        "\n",
        "model.save('model1')\n",
        " "
      ],
      "metadata": {
        "colab": {
          "base_uri": "https://localhost:8080/"
        },
        "id": "mP22oOhDaFCq",
        "outputId": "d9874afe-1891-44dd-db19-8cd24e026294"
      },
      "execution_count": null,
      "outputs": [
        {
          "output_type": "stream",
          "name": "stdout",
          "text": [
            "Model: \"sequential_1\"\n",
            "_________________________________________________________________\n",
            " Layer (type)                Output Shape              Param #   \n",
            "=================================================================\n",
            " lstm_1 (LSTM)               (None, 16)                1152      \n",
            "                                                                 \n",
            " dense_4 (Dense)             (None, 128)               2176      \n",
            "                                                                 \n",
            " dropout_3 (Dropout)         (None, 128)               0         \n",
            "                                                                 \n",
            " dense_5 (Dense)             (None, 32)                4128      \n",
            "                                                                 \n",
            " dropout_4 (Dropout)         (None, 32)                0         \n",
            "                                                                 \n",
            " dense_6 (Dense)             (None, 8)                 264       \n",
            "                                                                 \n",
            " dropout_5 (Dropout)         (None, 8)                 0         \n",
            "                                                                 \n",
            " dense_7 (Dense)             (None, 1)                 9         \n",
            "                                                                 \n",
            "=================================================================\n",
            "Total params: 7,729\n",
            "Trainable params: 7,729\n",
            "Non-trainable params: 0\n",
            "_________________________________________________________________\n",
            "Epoch 1/248\n",
            "36/36 [==============================] - 3s 31ms/step - loss: 0.0709 - rmse: 0.2662 - mse: 0.0709 - val_loss: 0.0578 - val_rmse: 0.2405 - val_mse: 0.0578\n",
            "Epoch 2/248\n",
            "36/36 [==============================] - 0s 6ms/step - loss: 0.0267 - rmse: 0.1635 - mse: 0.0267 - val_loss: 0.0100 - val_rmse: 0.1000 - val_mse: 0.0100\n",
            "Epoch 3/248\n",
            "36/36 [==============================] - 0s 8ms/step - loss: 0.0201 - rmse: 0.1417 - mse: 0.0201 - val_loss: 0.0061 - val_rmse: 0.0782 - val_mse: 0.0061\n",
            "Epoch 4/248\n",
            "36/36 [==============================] - 0s 8ms/step - loss: 0.0153 - rmse: 0.1235 - mse: 0.0153 - val_loss: 0.0147 - val_rmse: 0.1212 - val_mse: 0.0147\n",
            "Epoch 5/248\n",
            "36/36 [==============================] - 0s 7ms/step - loss: 0.0155 - rmse: 0.1246 - mse: 0.0155 - val_loss: 0.0039 - val_rmse: 0.0627 - val_mse: 0.0039\n",
            "Epoch 6/248\n",
            "36/36 [==============================] - 0s 8ms/step - loss: 0.0139 - rmse: 0.1181 - mse: 0.0139 - val_loss: 0.0076 - val_rmse: 0.0873 - val_mse: 0.0076\n",
            "Epoch 7/248\n",
            "36/36 [==============================] - 0s 6ms/step - loss: 0.0151 - rmse: 0.1228 - mse: 0.0151 - val_loss: 6.4263e-04 - val_rmse: 0.0254 - val_mse: 6.4263e-04\n",
            "Epoch 8/248\n",
            "36/36 [==============================] - 0s 6ms/step - loss: 0.0133 - rmse: 0.1152 - mse: 0.0133 - val_loss: 0.0066 - val_rmse: 0.0815 - val_mse: 0.0066\n",
            "Epoch 9/248\n",
            "36/36 [==============================] - 0s 7ms/step - loss: 0.0118 - rmse: 0.1088 - mse: 0.0118 - val_loss: 0.0016 - val_rmse: 0.0401 - val_mse: 0.0016\n",
            "Epoch 10/248\n",
            "36/36 [==============================] - 0s 7ms/step - loss: 0.0110 - rmse: 0.1051 - mse: 0.0110 - val_loss: 0.0015 - val_rmse: 0.0384 - val_mse: 0.0015\n",
            "Epoch 11/248\n",
            "36/36 [==============================] - 0s 7ms/step - loss: 0.0105 - rmse: 0.1027 - mse: 0.0105 - val_loss: 0.0064 - val_rmse: 0.0797 - val_mse: 0.0064\n",
            "Epoch 12/248\n",
            "36/36 [==============================] - 0s 7ms/step - loss: 0.0109 - rmse: 0.1045 - mse: 0.0109 - val_loss: 0.0053 - val_rmse: 0.0728 - val_mse: 0.0053\n",
            "Epoch 13/248\n",
            "36/36 [==============================] - 0s 8ms/step - loss: 0.0083 - rmse: 0.0912 - mse: 0.0083 - val_loss: 0.0040 - val_rmse: 0.0635 - val_mse: 0.0040\n",
            "Epoch 14/248\n",
            "36/36 [==============================] - 0s 7ms/step - loss: 0.0087 - rmse: 0.0932 - mse: 0.0087 - val_loss: 0.0047 - val_rmse: 0.0688 - val_mse: 0.0047\n",
            "Epoch 15/248\n",
            "36/36 [==============================] - 0s 6ms/step - loss: 0.0092 - rmse: 0.0958 - mse: 0.0092 - val_loss: 6.6323e-04 - val_rmse: 0.0258 - val_mse: 6.6323e-04\n",
            "Epoch 16/248\n",
            "36/36 [==============================] - 0s 7ms/step - loss: 0.0088 - rmse: 0.0939 - mse: 0.0088 - val_loss: 6.9910e-04 - val_rmse: 0.0264 - val_mse: 6.9910e-04\n",
            "Epoch 17/248\n",
            "36/36 [==============================] - 0s 7ms/step - loss: 0.0090 - rmse: 0.0950 - mse: 0.0090 - val_loss: 0.0063 - val_rmse: 0.0793 - val_mse: 0.0063\n",
            "Epoch 18/248\n",
            "36/36 [==============================] - 0s 8ms/step - loss: 0.0080 - rmse: 0.0895 - mse: 0.0080 - val_loss: 0.0059 - val_rmse: 0.0767 - val_mse: 0.0059\n",
            "Epoch 19/248\n",
            "36/36 [==============================] - 0s 7ms/step - loss: 0.0089 - rmse: 0.0946 - mse: 0.0089 - val_loss: 0.0015 - val_rmse: 0.0388 - val_mse: 0.0015\n",
            "Epoch 20/248\n",
            "36/36 [==============================] - 0s 9ms/step - loss: 0.0089 - rmse: 0.0941 - mse: 0.0089 - val_loss: 0.0030 - val_rmse: 0.0548 - val_mse: 0.0030\n",
            "Epoch 21/248\n",
            "36/36 [==============================] - 0s 8ms/step - loss: 0.0083 - rmse: 0.0912 - mse: 0.0083 - val_loss: 0.0026 - val_rmse: 0.0507 - val_mse: 0.0026\n",
            "Epoch 22/248\n",
            "36/36 [==============================] - 0s 7ms/step - loss: 0.0079 - rmse: 0.0889 - mse: 0.0079 - val_loss: 0.0036 - val_rmse: 0.0600 - val_mse: 0.0036\n",
            "Epoch 23/248\n",
            "36/36 [==============================] - 0s 8ms/step - loss: 0.0081 - rmse: 0.0898 - mse: 0.0081 - val_loss: 0.0023 - val_rmse: 0.0482 - val_mse: 0.0023\n",
            "Epoch 24/248\n",
            "36/36 [==============================] - 0s 7ms/step - loss: 0.0069 - rmse: 0.0832 - mse: 0.0069 - val_loss: 0.0034 - val_rmse: 0.0579 - val_mse: 0.0034\n",
            "Epoch 25/248\n",
            "36/36 [==============================] - 0s 8ms/step - loss: 0.0076 - rmse: 0.0870 - mse: 0.0076 - val_loss: 0.0035 - val_rmse: 0.0589 - val_mse: 0.0035\n",
            "Epoch 26/248\n",
            "36/36 [==============================] - 0s 7ms/step - loss: 0.0076 - rmse: 0.0872 - mse: 0.0076 - val_loss: 0.0022 - val_rmse: 0.0464 - val_mse: 0.0022\n",
            "Epoch 27/248\n",
            "36/36 [==============================] - 0s 6ms/step - loss: 0.0065 - rmse: 0.0808 - mse: 0.0065 - val_loss: 0.0011 - val_rmse: 0.0329 - val_mse: 0.0011\n",
            "Epoch 28/248\n",
            "36/36 [==============================] - 0s 8ms/step - loss: 0.0067 - rmse: 0.0817 - mse: 0.0067 - val_loss: 0.0028 - val_rmse: 0.0532 - val_mse: 0.0028\n",
            "Epoch 29/248\n",
            "36/36 [==============================] - 0s 8ms/step - loss: 0.0071 - rmse: 0.0841 - mse: 0.0071 - val_loss: 0.0018 - val_rmse: 0.0420 - val_mse: 0.0018\n",
            "Epoch 30/248\n",
            "36/36 [==============================] - 0s 6ms/step - loss: 0.0081 - rmse: 0.0899 - mse: 0.0081 - val_loss: 7.3288e-04 - val_rmse: 0.0271 - val_mse: 7.3288e-04\n",
            "Epoch 31/248\n",
            "36/36 [==============================] - 0s 7ms/step - loss: 0.0070 - rmse: 0.0834 - mse: 0.0070 - val_loss: 0.0066 - val_rmse: 0.0810 - val_mse: 0.0066\n",
            "Epoch 32/248\n",
            "36/36 [==============================] - 0s 8ms/step - loss: 0.0062 - rmse: 0.0789 - mse: 0.0062 - val_loss: 0.0022 - val_rmse: 0.0468 - val_mse: 0.0022\n",
            "Epoch 33/248\n",
            "36/36 [==============================] - 0s 8ms/step - loss: 0.0064 - rmse: 0.0802 - mse: 0.0064 - val_loss: 7.0060e-04 - val_rmse: 0.0265 - val_mse: 7.0060e-04\n",
            "Epoch 34/248\n",
            "36/36 [==============================] - 0s 8ms/step - loss: 0.0066 - rmse: 0.0815 - mse: 0.0066 - val_loss: 0.0014 - val_rmse: 0.0376 - val_mse: 0.0014\n",
            "Epoch 35/248\n",
            "36/36 [==============================] - 0s 8ms/step - loss: 0.0059 - rmse: 0.0769 - mse: 0.0059 - val_loss: 6.2461e-04 - val_rmse: 0.0250 - val_mse: 6.2461e-04\n",
            "Epoch 36/248\n",
            "36/36 [==============================] - 0s 8ms/step - loss: 0.0058 - rmse: 0.0759 - mse: 0.0058 - val_loss: 0.0025 - val_rmse: 0.0496 - val_mse: 0.0025\n",
            "Epoch 37/248\n",
            "36/36 [==============================] - 0s 8ms/step - loss: 0.0066 - rmse: 0.0811 - mse: 0.0066 - val_loss: 0.0016 - val_rmse: 0.0402 - val_mse: 0.0016\n",
            "Epoch 38/248\n",
            "36/36 [==============================] - 0s 7ms/step - loss: 0.0058 - rmse: 0.0760 - mse: 0.0058 - val_loss: 0.0010 - val_rmse: 0.0321 - val_mse: 0.0010\n",
            "Epoch 39/248\n",
            "36/36 [==============================] - 0s 7ms/step - loss: 0.0055 - rmse: 0.0743 - mse: 0.0055 - val_loss: 0.0014 - val_rmse: 0.0378 - val_mse: 0.0014\n",
            "Epoch 40/248\n",
            "36/36 [==============================] - 0s 8ms/step - loss: 0.0061 - rmse: 0.0781 - mse: 0.0061 - val_loss: 0.0013 - val_rmse: 0.0363 - val_mse: 0.0013\n",
            "Epoch 41/248\n",
            "36/36 [==============================] - 0s 7ms/step - loss: 0.0067 - rmse: 0.0818 - mse: 0.0067 - val_loss: 0.0011 - val_rmse: 0.0336 - val_mse: 0.0011\n",
            "Epoch 42/248\n",
            "36/36 [==============================] - 0s 7ms/step - loss: 0.0057 - rmse: 0.0754 - mse: 0.0057 - val_loss: 0.0042 - val_rmse: 0.0649 - val_mse: 0.0042\n",
            "Epoch 43/248\n",
            "36/36 [==============================] - 0s 8ms/step - loss: 0.0056 - rmse: 0.0750 - mse: 0.0056 - val_loss: 6.8025e-04 - val_rmse: 0.0261 - val_mse: 6.8025e-04\n",
            "Epoch 44/248\n",
            "36/36 [==============================] - 0s 8ms/step - loss: 0.0057 - rmse: 0.0753 - mse: 0.0057 - val_loss: 0.0025 - val_rmse: 0.0496 - val_mse: 0.0025\n",
            "Epoch 45/248\n",
            "36/36 [==============================] - 0s 7ms/step - loss: 0.0060 - rmse: 0.0777 - mse: 0.0060 - val_loss: 6.8879e-04 - val_rmse: 0.0262 - val_mse: 6.8879e-04\n",
            "Epoch 46/248\n",
            "36/36 [==============================] - 0s 7ms/step - loss: 0.0063 - rmse: 0.0796 - mse: 0.0063 - val_loss: 9.9822e-04 - val_rmse: 0.0316 - val_mse: 9.9822e-04\n",
            "Epoch 47/248\n",
            "36/36 [==============================] - 0s 8ms/step - loss: 0.0054 - rmse: 0.0736 - mse: 0.0054 - val_loss: 6.5564e-04 - val_rmse: 0.0256 - val_mse: 6.5564e-04\n",
            "Epoch 48/248\n",
            "36/36 [==============================] - 0s 7ms/step - loss: 0.0054 - rmse: 0.0734 - mse: 0.0054 - val_loss: 0.0010 - val_rmse: 0.0318 - val_mse: 0.0010\n",
            "Epoch 49/248\n",
            "36/36 [==============================] - 0s 7ms/step - loss: 0.0056 - rmse: 0.0746 - mse: 0.0056 - val_loss: 0.0038 - val_rmse: 0.0616 - val_mse: 0.0038\n",
            "Epoch 50/248\n",
            "36/36 [==============================] - 0s 7ms/step - loss: 0.0052 - rmse: 0.0723 - mse: 0.0052 - val_loss: 6.4795e-04 - val_rmse: 0.0255 - val_mse: 6.4795e-04\n",
            "Epoch 51/248\n",
            "36/36 [==============================] - 0s 8ms/step - loss: 0.0060 - rmse: 0.0776 - mse: 0.0060 - val_loss: 6.0377e-04 - val_rmse: 0.0246 - val_mse: 6.0377e-04\n",
            "Epoch 52/248\n",
            "36/36 [==============================] - 0s 8ms/step - loss: 0.0060 - rmse: 0.0773 - mse: 0.0060 - val_loss: 0.0013 - val_rmse: 0.0359 - val_mse: 0.0013\n",
            "Epoch 53/248\n",
            "36/36 [==============================] - 0s 7ms/step - loss: 0.0054 - rmse: 0.0736 - mse: 0.0054 - val_loss: 0.0012 - val_rmse: 0.0342 - val_mse: 0.0012\n",
            "Epoch 54/248\n",
            "36/36 [==============================] - 0s 7ms/step - loss: 0.0052 - rmse: 0.0723 - mse: 0.0052 - val_loss: 0.0011 - val_rmse: 0.0338 - val_mse: 0.0011\n",
            "Epoch 55/248\n",
            "36/36 [==============================] - 0s 8ms/step - loss: 0.0051 - rmse: 0.0712 - mse: 0.0051 - val_loss: 6.1805e-04 - val_rmse: 0.0249 - val_mse: 6.1805e-04\n",
            "Epoch 56/248\n",
            "36/36 [==============================] - 0s 7ms/step - loss: 0.0055 - rmse: 0.0744 - mse: 0.0055 - val_loss: 0.0024 - val_rmse: 0.0487 - val_mse: 0.0024\n",
            "Epoch 57/248\n",
            "36/36 [==============================] - 0s 7ms/step - loss: 0.0055 - rmse: 0.0741 - mse: 0.0055 - val_loss: 0.0054 - val_rmse: 0.0735 - val_mse: 0.0054\n",
            "Epoch 58/248\n",
            "36/36 [==============================] - 0s 8ms/step - loss: 0.0052 - rmse: 0.0718 - mse: 0.0052 - val_loss: 9.5057e-04 - val_rmse: 0.0308 - val_mse: 9.5057e-04\n",
            "Epoch 59/248\n",
            "36/36 [==============================] - 0s 8ms/step - loss: 0.0050 - rmse: 0.0705 - mse: 0.0050 - val_loss: 0.0014 - val_rmse: 0.0369 - val_mse: 0.0014\n",
            "Epoch 60/248\n",
            "36/36 [==============================] - 0s 8ms/step - loss: 0.0047 - rmse: 0.0688 - mse: 0.0047 - val_loss: 6.3312e-04 - val_rmse: 0.0252 - val_mse: 6.3312e-04\n",
            "Epoch 61/248\n",
            "36/36 [==============================] - 0s 7ms/step - loss: 0.0053 - rmse: 0.0727 - mse: 0.0053 - val_loss: 0.0045 - val_rmse: 0.0673 - val_mse: 0.0045\n",
            "Epoch 62/248\n",
            "36/36 [==============================] - 0s 8ms/step - loss: 0.0054 - rmse: 0.0732 - mse: 0.0054 - val_loss: 0.0058 - val_rmse: 0.0761 - val_mse: 0.0058\n",
            "Epoch 63/248\n",
            "36/36 [==============================] - 0s 7ms/step - loss: 0.0049 - rmse: 0.0703 - mse: 0.0049 - val_loss: 6.1100e-04 - val_rmse: 0.0247 - val_mse: 6.1100e-04\n",
            "Epoch 64/248\n",
            "36/36 [==============================] - 0s 7ms/step - loss: 0.0055 - rmse: 0.0741 - mse: 0.0055 - val_loss: 0.0018 - val_rmse: 0.0422 - val_mse: 0.0018\n",
            "Epoch 65/248\n",
            "36/36 [==============================] - 0s 8ms/step - loss: 0.0063 - rmse: 0.0792 - mse: 0.0063 - val_loss: 0.0011 - val_rmse: 0.0331 - val_mse: 0.0011\n",
            "Epoch 66/248\n",
            "36/36 [==============================] - 0s 7ms/step - loss: 0.0067 - rmse: 0.0817 - mse: 0.0067 - val_loss: 6.9209e-04 - val_rmse: 0.0263 - val_mse: 6.9209e-04\n",
            "Epoch 67/248\n",
            "36/36 [==============================] - 0s 8ms/step - loss: 0.0058 - rmse: 0.0765 - mse: 0.0058 - val_loss: 6.0748e-04 - val_rmse: 0.0246 - val_mse: 6.0748e-04\n",
            "Epoch 68/248\n",
            "36/36 [==============================] - 0s 8ms/step - loss: 0.0056 - rmse: 0.0746 - mse: 0.0056 - val_loss: 0.0037 - val_rmse: 0.0609 - val_mse: 0.0037\n",
            "Epoch 69/248\n",
            "36/36 [==============================] - 0s 8ms/step - loss: 0.0051 - rmse: 0.0712 - mse: 0.0051 - val_loss: 0.0011 - val_rmse: 0.0337 - val_mse: 0.0011\n",
            "Epoch 70/248\n",
            "36/36 [==============================] - 0s 8ms/step - loss: 0.0045 - rmse: 0.0669 - mse: 0.0045 - val_loss: 0.0043 - val_rmse: 0.0654 - val_mse: 0.0043\n",
            "Epoch 71/248\n",
            "36/36 [==============================] - 0s 8ms/step - loss: 0.0046 - rmse: 0.0676 - mse: 0.0046 - val_loss: 0.0013 - val_rmse: 0.0367 - val_mse: 0.0013\n",
            "Epoch 72/248\n",
            "36/36 [==============================] - 0s 8ms/step - loss: 0.0053 - rmse: 0.0726 - mse: 0.0053 - val_loss: 8.3223e-04 - val_rmse: 0.0288 - val_mse: 8.3223e-04\n",
            "Epoch 73/248\n",
            "36/36 [==============================] - 0s 7ms/step - loss: 0.0050 - rmse: 0.0709 - mse: 0.0050 - val_loss: 0.0020 - val_rmse: 0.0444 - val_mse: 0.0020\n",
            "Epoch 74/248\n",
            "36/36 [==============================] - 0s 8ms/step - loss: 0.0054 - rmse: 0.0735 - mse: 0.0054 - val_loss: 0.0054 - val_rmse: 0.0736 - val_mse: 0.0054\n",
            "Epoch 75/248\n",
            "36/36 [==============================] - 0s 8ms/step - loss: 0.0047 - rmse: 0.0685 - mse: 0.0047 - val_loss: 7.0085e-04 - val_rmse: 0.0265 - val_mse: 7.0085e-04\n",
            "Epoch 76/248\n",
            "36/36 [==============================] - 0s 8ms/step - loss: 0.0052 - rmse: 0.0719 - mse: 0.0052 - val_loss: 0.0012 - val_rmse: 0.0351 - val_mse: 0.0012\n",
            "Epoch 77/248\n",
            "36/36 [==============================] - 0s 8ms/step - loss: 0.0048 - rmse: 0.0694 - mse: 0.0048 - val_loss: 0.0014 - val_rmse: 0.0369 - val_mse: 0.0014\n",
            "Epoch 78/248\n",
            "36/36 [==============================] - 0s 8ms/step - loss: 0.0047 - rmse: 0.0687 - mse: 0.0047 - val_loss: 8.3627e-04 - val_rmse: 0.0289 - val_mse: 8.3627e-04\n",
            "Epoch 79/248\n",
            "36/36 [==============================] - 0s 7ms/step - loss: 0.0043 - rmse: 0.0659 - mse: 0.0043 - val_loss: 6.2388e-04 - val_rmse: 0.0250 - val_mse: 6.2388e-04\n",
            "Epoch 80/248\n",
            "36/36 [==============================] - 0s 7ms/step - loss: 0.0049 - rmse: 0.0703 - mse: 0.0049 - val_loss: 8.8244e-04 - val_rmse: 0.0297 - val_mse: 8.8244e-04\n",
            "Epoch 81/248\n",
            "36/36 [==============================] - 0s 7ms/step - loss: 0.0055 - rmse: 0.0739 - mse: 0.0055 - val_loss: 7.0733e-04 - val_rmse: 0.0266 - val_mse: 7.0733e-04\n",
            "Epoch 82/248\n",
            "36/36 [==============================] - 0s 6ms/step - loss: 0.0052 - rmse: 0.0723 - mse: 0.0052 - val_loss: 0.0011 - val_rmse: 0.0324 - val_mse: 0.0011\n",
            "Epoch 83/248\n",
            "36/36 [==============================] - 0s 7ms/step - loss: 0.0049 - rmse: 0.0702 - mse: 0.0049 - val_loss: 5.9498e-04 - val_rmse: 0.0244 - val_mse: 5.9498e-04\n",
            "Epoch 84/248\n",
            "36/36 [==============================] - 0s 6ms/step - loss: 0.0044 - rmse: 0.0664 - mse: 0.0044 - val_loss: 0.0050 - val_rmse: 0.0707 - val_mse: 0.0050\n",
            "Epoch 85/248\n",
            "36/36 [==============================] - 0s 7ms/step - loss: 0.0057 - rmse: 0.0757 - mse: 0.0057 - val_loss: 0.0013 - val_rmse: 0.0355 - val_mse: 0.0013\n",
            "Epoch 86/248\n",
            "36/36 [==============================] - 0s 8ms/step - loss: 0.0048 - rmse: 0.0696 - mse: 0.0048 - val_loss: 7.1901e-04 - val_rmse: 0.0268 - val_mse: 7.1901e-04\n",
            "Epoch 87/248\n",
            "36/36 [==============================] - 0s 8ms/step - loss: 0.0048 - rmse: 0.0696 - mse: 0.0048 - val_loss: 6.1515e-04 - val_rmse: 0.0248 - val_mse: 6.1515e-04\n",
            "Epoch 88/248\n",
            "36/36 [==============================] - 0s 8ms/step - loss: 0.0056 - rmse: 0.0746 - mse: 0.0056 - val_loss: 7.0700e-04 - val_rmse: 0.0266 - val_mse: 7.0700e-04\n",
            "Epoch 89/248\n",
            "36/36 [==============================] - 0s 7ms/step - loss: 0.0050 - rmse: 0.0710 - mse: 0.0050 - val_loss: 0.0011 - val_rmse: 0.0327 - val_mse: 0.0011\n",
            "Epoch 90/248\n",
            "36/36 [==============================] - 0s 7ms/step - loss: 0.0051 - rmse: 0.0714 - mse: 0.0051 - val_loss: 9.5689e-04 - val_rmse: 0.0309 - val_mse: 9.5689e-04\n",
            "Epoch 91/248\n",
            "36/36 [==============================] - 0s 7ms/step - loss: 0.0051 - rmse: 0.0711 - mse: 0.0051 - val_loss: 0.0027 - val_rmse: 0.0524 - val_mse: 0.0027\n",
            "Epoch 92/248\n",
            "36/36 [==============================] - 0s 7ms/step - loss: 0.0050 - rmse: 0.0707 - mse: 0.0050 - val_loss: 9.5377e-04 - val_rmse: 0.0309 - val_mse: 9.5377e-04\n",
            "Epoch 93/248\n",
            "36/36 [==============================] - 0s 7ms/step - loss: 0.0051 - rmse: 0.0712 - mse: 0.0051 - val_loss: 0.0032 - val_rmse: 0.0567 - val_mse: 0.0032\n",
            "Epoch 94/248\n",
            "36/36 [==============================] - 0s 7ms/step - loss: 0.0046 - rmse: 0.0681 - mse: 0.0046 - val_loss: 0.0022 - val_rmse: 0.0465 - val_mse: 0.0022\n",
            "Epoch 95/248\n",
            "36/36 [==============================] - 0s 7ms/step - loss: 0.0047 - rmse: 0.0688 - mse: 0.0047 - val_loss: 8.5541e-04 - val_rmse: 0.0292 - val_mse: 8.5541e-04\n",
            "Epoch 96/248\n",
            "36/36 [==============================] - 0s 6ms/step - loss: 0.0048 - rmse: 0.0695 - mse: 0.0048 - val_loss: 0.0010 - val_rmse: 0.0318 - val_mse: 0.0010\n",
            "Epoch 97/248\n",
            "36/36 [==============================] - 0s 7ms/step - loss: 0.0050 - rmse: 0.0709 - mse: 0.0050 - val_loss: 0.0012 - val_rmse: 0.0348 - val_mse: 0.0012\n",
            "Epoch 98/248\n",
            "36/36 [==============================] - 0s 8ms/step - loss: 0.0067 - rmse: 0.0820 - mse: 0.0067 - val_loss: 6.0496e-04 - val_rmse: 0.0246 - val_mse: 6.0496e-04\n",
            "Epoch 99/248\n",
            "36/36 [==============================] - 0s 7ms/step - loss: 0.0050 - rmse: 0.0705 - mse: 0.0050 - val_loss: 8.4260e-04 - val_rmse: 0.0290 - val_mse: 8.4260e-04\n",
            "Epoch 100/248\n",
            "36/36 [==============================] - 0s 7ms/step - loss: 0.0052 - rmse: 0.0723 - mse: 0.0052 - val_loss: 0.0011 - val_rmse: 0.0329 - val_mse: 0.0011\n",
            "Epoch 101/248\n",
            "36/36 [==============================] - 0s 7ms/step - loss: 0.0046 - rmse: 0.0678 - mse: 0.0046 - val_loss: 0.0012 - val_rmse: 0.0353 - val_mse: 0.0012\n",
            "Epoch 102/248\n",
            "36/36 [==============================] - 0s 7ms/step - loss: 0.0054 - rmse: 0.0735 - mse: 0.0054 - val_loss: 0.0010 - val_rmse: 0.0318 - val_mse: 0.0010\n",
            "Epoch 103/248\n",
            "36/36 [==============================] - 0s 7ms/step - loss: 0.0053 - rmse: 0.0731 - mse: 0.0053 - val_loss: 0.0016 - val_rmse: 0.0405 - val_mse: 0.0016\n",
            "Epoch 104/248\n",
            "36/36 [==============================] - 0s 7ms/step - loss: 0.0050 - rmse: 0.0709 - mse: 0.0050 - val_loss: 0.0014 - val_rmse: 0.0374 - val_mse: 0.0014\n",
            "Epoch 105/248\n",
            "36/36 [==============================] - 0s 7ms/step - loss: 0.0047 - rmse: 0.0682 - mse: 0.0047 - val_loss: 7.3110e-04 - val_rmse: 0.0270 - val_mse: 7.3110e-04\n",
            "Epoch 106/248\n",
            "36/36 [==============================] - 0s 7ms/step - loss: 0.0053 - rmse: 0.0731 - mse: 0.0053 - val_loss: 0.0024 - val_rmse: 0.0492 - val_mse: 0.0024\n",
            "Epoch 107/248\n",
            "36/36 [==============================] - 0s 7ms/step - loss: 0.0048 - rmse: 0.0692 - mse: 0.0048 - val_loss: 0.0036 - val_rmse: 0.0601 - val_mse: 0.0036\n",
            "Epoch 108/248\n",
            "36/36 [==============================] - 0s 8ms/step - loss: 0.0049 - rmse: 0.0700 - mse: 0.0049 - val_loss: 0.0019 - val_rmse: 0.0438 - val_mse: 0.0019\n",
            "Epoch 109/248\n",
            "36/36 [==============================] - 0s 8ms/step - loss: 0.0048 - rmse: 0.0696 - mse: 0.0048 - val_loss: 7.7224e-04 - val_rmse: 0.0278 - val_mse: 7.7224e-04\n",
            "Epoch 110/248\n",
            "36/36 [==============================] - 0s 8ms/step - loss: 0.0049 - rmse: 0.0701 - mse: 0.0049 - val_loss: 7.9957e-04 - val_rmse: 0.0283 - val_mse: 7.9957e-04\n",
            "Epoch 111/248\n",
            "36/36 [==============================] - 0s 7ms/step - loss: 0.0051 - rmse: 0.0716 - mse: 0.0051 - val_loss: 0.0025 - val_rmse: 0.0495 - val_mse: 0.0025\n",
            "Epoch 112/248\n",
            "36/36 [==============================] - 0s 8ms/step - loss: 0.0054 - rmse: 0.0738 - mse: 0.0054 - val_loss: 0.0045 - val_rmse: 0.0670 - val_mse: 0.0045\n",
            "Epoch 113/248\n",
            "36/36 [==============================] - 0s 8ms/step - loss: 0.0053 - rmse: 0.0730 - mse: 0.0053 - val_loss: 0.0042 - val_rmse: 0.0649 - val_mse: 0.0042\n",
            "Epoch 114/248\n",
            "36/36 [==============================] - 0s 7ms/step - loss: 0.0051 - rmse: 0.0717 - mse: 0.0051 - val_loss: 0.0010 - val_rmse: 0.0322 - val_mse: 0.0010\n",
            "Epoch 115/248\n",
            "36/36 [==============================] - 0s 7ms/step - loss: 0.0052 - rmse: 0.0722 - mse: 0.0052 - val_loss: 0.0031 - val_rmse: 0.0553 - val_mse: 0.0031\n",
            "Epoch 116/248\n",
            "36/36 [==============================] - 0s 7ms/step - loss: 0.0054 - rmse: 0.0732 - mse: 0.0054 - val_loss: 0.0016 - val_rmse: 0.0397 - val_mse: 0.0016\n",
            "Epoch 117/248\n",
            "36/36 [==============================] - 0s 8ms/step - loss: 0.0058 - rmse: 0.0761 - mse: 0.0058 - val_loss: 5.8837e-04 - val_rmse: 0.0243 - val_mse: 5.8837e-04\n",
            "Epoch 118/248\n",
            "36/36 [==============================] - 0s 7ms/step - loss: 0.0053 - rmse: 0.0727 - mse: 0.0053 - val_loss: 0.0024 - val_rmse: 0.0491 - val_mse: 0.0024\n",
            "Epoch 119/248\n",
            "36/36 [==============================] - 0s 7ms/step - loss: 0.0047 - rmse: 0.0688 - mse: 0.0047 - val_loss: 0.0025 - val_rmse: 0.0496 - val_mse: 0.0025\n",
            "Epoch 120/248\n",
            "36/36 [==============================] - 0s 7ms/step - loss: 0.0049 - rmse: 0.0704 - mse: 0.0049 - val_loss: 9.2499e-04 - val_rmse: 0.0304 - val_mse: 9.2499e-04\n",
            "Epoch 121/248\n",
            "36/36 [==============================] - 0s 8ms/step - loss: 0.0049 - rmse: 0.0702 - mse: 0.0049 - val_loss: 0.0014 - val_rmse: 0.0371 - val_mse: 0.0014\n",
            "Epoch 122/248\n",
            "36/36 [==============================] - 0s 7ms/step - loss: 0.0047 - rmse: 0.0688 - mse: 0.0047 - val_loss: 5.8656e-04 - val_rmse: 0.0242 - val_mse: 5.8656e-04\n",
            "Epoch 123/248\n",
            "36/36 [==============================] - 0s 7ms/step - loss: 0.0048 - rmse: 0.0690 - mse: 0.0048 - val_loss: 7.2695e-04 - val_rmse: 0.0270 - val_mse: 7.2695e-04\n",
            "Epoch 124/248\n",
            "36/36 [==============================] - 0s 7ms/step - loss: 0.0050 - rmse: 0.0705 - mse: 0.0050 - val_loss: 0.0013 - val_rmse: 0.0357 - val_mse: 0.0013\n",
            "Epoch 125/248\n",
            "36/36 [==============================] - 0s 8ms/step - loss: 0.0051 - rmse: 0.0713 - mse: 0.0051 - val_loss: 0.0016 - val_rmse: 0.0397 - val_mse: 0.0016\n",
            "Epoch 126/248\n",
            "36/36 [==============================] - 0s 8ms/step - loss: 0.0043 - rmse: 0.0652 - mse: 0.0043 - val_loss: 0.0025 - val_rmse: 0.0504 - val_mse: 0.0025\n",
            "Epoch 127/248\n",
            "36/36 [==============================] - 0s 8ms/step - loss: 0.0053 - rmse: 0.0727 - mse: 0.0053 - val_loss: 0.0031 - val_rmse: 0.0554 - val_mse: 0.0031\n",
            "Epoch 128/248\n",
            "36/36 [==============================] - 0s 8ms/step - loss: 0.0046 - rmse: 0.0682 - mse: 0.0046 - val_loss: 6.0904e-04 - val_rmse: 0.0247 - val_mse: 6.0904e-04\n",
            "Epoch 129/248\n",
            "36/36 [==============================] - 0s 6ms/step - loss: 0.0049 - rmse: 0.0697 - mse: 0.0049 - val_loss: 0.0023 - val_rmse: 0.0484 - val_mse: 0.0023\n",
            "Epoch 130/248\n",
            "36/36 [==============================] - 0s 8ms/step - loss: 0.0048 - rmse: 0.0696 - mse: 0.0048 - val_loss: 0.0025 - val_rmse: 0.0504 - val_mse: 0.0025\n",
            "Epoch 131/248\n",
            "36/36 [==============================] - 0s 8ms/step - loss: 0.0044 - rmse: 0.0664 - mse: 0.0044 - val_loss: 9.5930e-04 - val_rmse: 0.0310 - val_mse: 9.5930e-04\n",
            "Epoch 132/248\n",
            "36/36 [==============================] - 0s 8ms/step - loss: 0.0048 - rmse: 0.0695 - mse: 0.0048 - val_loss: 0.0014 - val_rmse: 0.0373 - val_mse: 0.0014\n",
            "Epoch 133/248\n",
            "36/36 [==============================] - 0s 8ms/step - loss: 0.0051 - rmse: 0.0711 - mse: 0.0051 - val_loss: 5.7438e-04 - val_rmse: 0.0240 - val_mse: 5.7438e-04\n",
            "Epoch 134/248\n",
            "36/36 [==============================] - 0s 7ms/step - loss: 0.0050 - rmse: 0.0708 - mse: 0.0050 - val_loss: 7.0325e-04 - val_rmse: 0.0265 - val_mse: 7.0325e-04\n",
            "Epoch 135/248\n",
            "36/36 [==============================] - 0s 8ms/step - loss: 0.0048 - rmse: 0.0693 - mse: 0.0048 - val_loss: 0.0021 - val_rmse: 0.0460 - val_mse: 0.0021\n",
            "Epoch 136/248\n",
            "36/36 [==============================] - 0s 9ms/step - loss: 0.0053 - rmse: 0.0726 - mse: 0.0053 - val_loss: 6.9003e-04 - val_rmse: 0.0263 - val_mse: 6.9003e-04\n",
            "Epoch 137/248\n",
            "36/36 [==============================] - 0s 7ms/step - loss: 0.0046 - rmse: 0.0679 - mse: 0.0046 - val_loss: 0.0014 - val_rmse: 0.0377 - val_mse: 0.0014\n",
            "Epoch 138/248\n",
            "36/36 [==============================] - 0s 7ms/step - loss: 0.0050 - rmse: 0.0707 - mse: 0.0050 - val_loss: 0.0010 - val_rmse: 0.0324 - val_mse: 0.0010\n",
            "Epoch 139/248\n",
            "36/36 [==============================] - 0s 8ms/step - loss: 0.0047 - rmse: 0.0684 - mse: 0.0047 - val_loss: 0.0020 - val_rmse: 0.0448 - val_mse: 0.0020\n",
            "Epoch 140/248\n",
            "36/36 [==============================] - 0s 7ms/step - loss: 0.0046 - rmse: 0.0679 - mse: 0.0046 - val_loss: 6.5142e-04 - val_rmse: 0.0255 - val_mse: 6.5142e-04\n",
            "Epoch 141/248\n",
            "36/36 [==============================] - 0s 8ms/step - loss: 0.0046 - rmse: 0.0682 - mse: 0.0046 - val_loss: 0.0015 - val_rmse: 0.0393 - val_mse: 0.0015\n",
            "Epoch 142/248\n",
            "36/36 [==============================] - 0s 7ms/step - loss: 0.0049 - rmse: 0.0702 - mse: 0.0049 - val_loss: 0.0067 - val_rmse: 0.0820 - val_mse: 0.0067\n",
            "Epoch 143/248\n",
            "36/36 [==============================] - 0s 8ms/step - loss: 0.0051 - rmse: 0.0713 - mse: 0.0051 - val_loss: 5.9772e-04 - val_rmse: 0.0244 - val_mse: 5.9772e-04\n",
            "Epoch 144/248\n",
            "36/36 [==============================] - 0s 8ms/step - loss: 0.0047 - rmse: 0.0682 - mse: 0.0047 - val_loss: 8.6369e-04 - val_rmse: 0.0294 - val_mse: 8.6369e-04\n",
            "Epoch 145/248\n",
            "36/36 [==============================] - 0s 7ms/step - loss: 0.0046 - rmse: 0.0676 - mse: 0.0046 - val_loss: 6.2363e-04 - val_rmse: 0.0250 - val_mse: 6.2363e-04\n",
            "Epoch 146/248\n",
            "36/36 [==============================] - 0s 7ms/step - loss: 0.0049 - rmse: 0.0697 - mse: 0.0049 - val_loss: 6.0697e-04 - val_rmse: 0.0246 - val_mse: 6.0697e-04\n",
            "Epoch 147/248\n",
            "36/36 [==============================] - 0s 8ms/step - loss: 0.0048 - rmse: 0.0693 - mse: 0.0048 - val_loss: 9.9082e-04 - val_rmse: 0.0315 - val_mse: 9.9082e-04\n",
            "Epoch 148/248\n",
            "36/36 [==============================] - 0s 7ms/step - loss: 0.0047 - rmse: 0.0682 - mse: 0.0047 - val_loss: 6.3014e-04 - val_rmse: 0.0251 - val_mse: 6.3014e-04\n",
            "Epoch 149/248\n",
            "36/36 [==============================] - 0s 7ms/step - loss: 0.0049 - rmse: 0.0697 - mse: 0.0049 - val_loss: 7.3619e-04 - val_rmse: 0.0271 - val_mse: 7.3619e-04\n",
            "Epoch 150/248\n",
            "36/36 [==============================] - 0s 6ms/step - loss: 0.0049 - rmse: 0.0703 - mse: 0.0049 - val_loss: 0.0016 - val_rmse: 0.0404 - val_mse: 0.0016\n",
            "Epoch 151/248\n",
            "36/36 [==============================] - 0s 7ms/step - loss: 0.0049 - rmse: 0.0698 - mse: 0.0049 - val_loss: 7.4785e-04 - val_rmse: 0.0273 - val_mse: 7.4785e-04\n",
            "Epoch 152/248\n",
            "36/36 [==============================] - 0s 8ms/step - loss: 0.0049 - rmse: 0.0701 - mse: 0.0049 - val_loss: 0.0024 - val_rmse: 0.0486 - val_mse: 0.0024\n",
            "Epoch 153/248\n",
            "36/36 [==============================] - 0s 8ms/step - loss: 0.0047 - rmse: 0.0688 - mse: 0.0047 - val_loss: 0.0023 - val_rmse: 0.0478 - val_mse: 0.0023\n",
            "Epoch 154/248\n",
            "36/36 [==============================] - 0s 8ms/step - loss: 0.0046 - rmse: 0.0679 - mse: 0.0046 - val_loss: 0.0052 - val_rmse: 0.0724 - val_mse: 0.0052\n",
            "Epoch 155/248\n",
            "36/36 [==============================] - 0s 7ms/step - loss: 0.0053 - rmse: 0.0725 - mse: 0.0053 - val_loss: 0.0017 - val_rmse: 0.0408 - val_mse: 0.0017\n",
            "Epoch 156/248\n",
            "36/36 [==============================] - 0s 8ms/step - loss: 0.0051 - rmse: 0.0714 - mse: 0.0051 - val_loss: 0.0012 - val_rmse: 0.0340 - val_mse: 0.0012\n",
            "Epoch 157/248\n",
            "36/36 [==============================] - 0s 8ms/step - loss: 0.0052 - rmse: 0.0718 - mse: 0.0052 - val_loss: 6.2128e-04 - val_rmse: 0.0249 - val_mse: 6.2128e-04\n",
            "Epoch 158/248\n",
            "36/36 [==============================] - 0s 8ms/step - loss: 0.0046 - rmse: 0.0679 - mse: 0.0046 - val_loss: 6.9286e-04 - val_rmse: 0.0263 - val_mse: 6.9286e-04\n",
            "Epoch 159/248\n",
            "36/36 [==============================] - 0s 9ms/step - loss: 0.0052 - rmse: 0.0719 - mse: 0.0052 - val_loss: 5.8767e-04 - val_rmse: 0.0242 - val_mse: 5.8767e-04\n",
            "Epoch 160/248\n",
            "36/36 [==============================] - 0s 7ms/step - loss: 0.0044 - rmse: 0.0665 - mse: 0.0044 - val_loss: 7.4885e-04 - val_rmse: 0.0274 - val_mse: 7.4885e-04\n",
            "Epoch 161/248\n",
            "36/36 [==============================] - 1s 15ms/step - loss: 0.0048 - rmse: 0.0695 - mse: 0.0048 - val_loss: 0.0022 - val_rmse: 0.0469 - val_mse: 0.0022\n",
            "Epoch 162/248\n",
            "36/36 [==============================] - 0s 10ms/step - loss: 0.0043 - rmse: 0.0655 - mse: 0.0043 - val_loss: 5.9456e-04 - val_rmse: 0.0244 - val_mse: 5.9456e-04\n",
            "Epoch 163/248\n",
            "36/36 [==============================] - 0s 8ms/step - loss: 0.0047 - rmse: 0.0687 - mse: 0.0047 - val_loss: 0.0017 - val_rmse: 0.0417 - val_mse: 0.0017\n",
            "Epoch 164/248\n",
            "36/36 [==============================] - 0s 8ms/step - loss: 0.0051 - rmse: 0.0716 - mse: 0.0051 - val_loss: 6.8174e-04 - val_rmse: 0.0261 - val_mse: 6.8174e-04\n",
            "Epoch 165/248\n",
            "36/36 [==============================] - 0s 8ms/step - loss: 0.0048 - rmse: 0.0690 - mse: 0.0048 - val_loss: 0.0017 - val_rmse: 0.0411 - val_mse: 0.0017\n",
            "Epoch 166/248\n",
            "36/36 [==============================] - 0s 7ms/step - loss: 0.0054 - rmse: 0.0737 - mse: 0.0054 - val_loss: 7.5338e-04 - val_rmse: 0.0274 - val_mse: 7.5338e-04\n",
            "Epoch 167/248\n",
            "36/36 [==============================] - 0s 8ms/step - loss: 0.0048 - rmse: 0.0694 - mse: 0.0048 - val_loss: 8.0176e-04 - val_rmse: 0.0283 - val_mse: 8.0176e-04\n",
            "Epoch 168/248\n",
            "36/36 [==============================] - 0s 7ms/step - loss: 0.0055 - rmse: 0.0742 - mse: 0.0055 - val_loss: 7.8372e-04 - val_rmse: 0.0280 - val_mse: 7.8372e-04\n",
            "Epoch 169/248\n",
            "36/36 [==============================] - 0s 8ms/step - loss: 0.0049 - rmse: 0.0699 - mse: 0.0049 - val_loss: 7.4225e-04 - val_rmse: 0.0272 - val_mse: 7.4225e-04\n",
            "Epoch 170/248\n",
            "36/36 [==============================] - 0s 7ms/step - loss: 0.0055 - rmse: 0.0740 - mse: 0.0055 - val_loss: 7.7867e-04 - val_rmse: 0.0279 - val_mse: 7.7867e-04\n",
            "Epoch 171/248\n",
            "36/36 [==============================] - 0s 7ms/step - loss: 0.0049 - rmse: 0.0697 - mse: 0.0049 - val_loss: 0.0015 - val_rmse: 0.0389 - val_mse: 0.0015\n",
            "Epoch 172/248\n",
            "36/36 [==============================] - 0s 7ms/step - loss: 0.0051 - rmse: 0.0715 - mse: 0.0051 - val_loss: 0.0018 - val_rmse: 0.0424 - val_mse: 0.0018\n",
            "Epoch 173/248\n",
            "36/36 [==============================] - 0s 9ms/step - loss: 0.0048 - rmse: 0.0694 - mse: 0.0048 - val_loss: 0.0019 - val_rmse: 0.0441 - val_mse: 0.0019\n",
            "Epoch 174/248\n",
            "36/36 [==============================] - 0s 8ms/step - loss: 0.0044 - rmse: 0.0665 - mse: 0.0044 - val_loss: 0.0027 - val_rmse: 0.0522 - val_mse: 0.0027\n",
            "Epoch 175/248\n",
            "36/36 [==============================] - 0s 7ms/step - loss: 0.0046 - rmse: 0.0676 - mse: 0.0046 - val_loss: 7.2275e-04 - val_rmse: 0.0269 - val_mse: 7.2275e-04\n",
            "Epoch 176/248\n",
            "36/36 [==============================] - 0s 7ms/step - loss: 0.0051 - rmse: 0.0715 - mse: 0.0051 - val_loss: 0.0023 - val_rmse: 0.0478 - val_mse: 0.0023\n",
            "Epoch 177/248\n",
            "36/36 [==============================] - 0s 7ms/step - loss: 0.0054 - rmse: 0.0733 - mse: 0.0054 - val_loss: 0.0010 - val_rmse: 0.0324 - val_mse: 0.0010\n",
            "Epoch 178/248\n",
            "36/36 [==============================] - 0s 8ms/step - loss: 0.0060 - rmse: 0.0776 - mse: 0.0060 - val_loss: 0.0014 - val_rmse: 0.0370 - val_mse: 0.0014\n",
            "Epoch 179/248\n",
            "36/36 [==============================] - 0s 8ms/step - loss: 0.0044 - rmse: 0.0667 - mse: 0.0044 - val_loss: 0.0022 - val_rmse: 0.0467 - val_mse: 0.0022\n",
            "Epoch 180/248\n",
            "36/36 [==============================] - 0s 7ms/step - loss: 0.0050 - rmse: 0.0704 - mse: 0.0050 - val_loss: 0.0020 - val_rmse: 0.0445 - val_mse: 0.0020\n",
            "Epoch 181/248\n",
            "36/36 [==============================] - 0s 7ms/step - loss: 0.0051 - rmse: 0.0711 - mse: 0.0051 - val_loss: 0.0013 - val_rmse: 0.0361 - val_mse: 0.0013\n",
            "Epoch 182/248\n",
            "36/36 [==============================] - 0s 8ms/step - loss: 0.0051 - rmse: 0.0714 - mse: 0.0051 - val_loss: 0.0045 - val_rmse: 0.0668 - val_mse: 0.0045\n",
            "Epoch 183/248\n",
            "36/36 [==============================] - 0s 8ms/step - loss: 0.0051 - rmse: 0.0714 - mse: 0.0051 - val_loss: 0.0030 - val_rmse: 0.0551 - val_mse: 0.0030\n",
            "Epoch 184/248\n",
            "36/36 [==============================] - 0s 7ms/step - loss: 0.0054 - rmse: 0.0732 - mse: 0.0054 - val_loss: 0.0019 - val_rmse: 0.0441 - val_mse: 0.0019\n",
            "Epoch 185/248\n",
            "36/36 [==============================] - 0s 7ms/step - loss: 0.0049 - rmse: 0.0698 - mse: 0.0049 - val_loss: 0.0011 - val_rmse: 0.0339 - val_mse: 0.0011\n",
            "Epoch 186/248\n",
            "36/36 [==============================] - 0s 8ms/step - loss: 0.0050 - rmse: 0.0707 - mse: 0.0050 - val_loss: 0.0031 - val_rmse: 0.0560 - val_mse: 0.0031\n",
            "Epoch 187/248\n",
            "36/36 [==============================] - 0s 7ms/step - loss: 0.0049 - rmse: 0.0701 - mse: 0.0049 - val_loss: 9.7703e-04 - val_rmse: 0.0313 - val_mse: 9.7703e-04\n",
            "Epoch 188/248\n",
            "36/36 [==============================] - 0s 8ms/step - loss: 0.0052 - rmse: 0.0723 - mse: 0.0052 - val_loss: 8.8083e-04 - val_rmse: 0.0297 - val_mse: 8.8083e-04\n",
            "Epoch 189/248\n",
            "36/36 [==============================] - 0s 8ms/step - loss: 0.0047 - rmse: 0.0682 - mse: 0.0047 - val_loss: 0.0020 - val_rmse: 0.0447 - val_mse: 0.0020\n",
            "Epoch 190/248\n",
            "36/36 [==============================] - 0s 8ms/step - loss: 0.0047 - rmse: 0.0684 - mse: 0.0047 - val_loss: 0.0061 - val_rmse: 0.0779 - val_mse: 0.0061\n",
            "Epoch 191/248\n",
            "36/36 [==============================] - 0s 8ms/step - loss: 0.0047 - rmse: 0.0683 - mse: 0.0047 - val_loss: 0.0019 - val_rmse: 0.0440 - val_mse: 0.0019\n",
            "Epoch 192/248\n",
            "36/36 [==============================] - 0s 7ms/step - loss: 0.0045 - rmse: 0.0668 - mse: 0.0045 - val_loss: 0.0024 - val_rmse: 0.0490 - val_mse: 0.0024\n",
            "Epoch 193/248\n",
            "36/36 [==============================] - 0s 7ms/step - loss: 0.0049 - rmse: 0.0701 - mse: 0.0049 - val_loss: 0.0011 - val_rmse: 0.0337 - val_mse: 0.0011\n",
            "Epoch 194/248\n",
            "36/36 [==============================] - 0s 8ms/step - loss: 0.0046 - rmse: 0.0677 - mse: 0.0046 - val_loss: 0.0011 - val_rmse: 0.0326 - val_mse: 0.0011\n",
            "Epoch 195/248\n",
            "36/36 [==============================] - 0s 8ms/step - loss: 0.0046 - rmse: 0.0679 - mse: 0.0046 - val_loss: 9.0530e-04 - val_rmse: 0.0301 - val_mse: 9.0530e-04\n",
            "Epoch 196/248\n",
            "36/36 [==============================] - 0s 7ms/step - loss: 0.0048 - rmse: 0.0694 - mse: 0.0048 - val_loss: 5.8669e-04 - val_rmse: 0.0242 - val_mse: 5.8669e-04\n",
            "Epoch 197/248\n",
            "36/36 [==============================] - 0s 8ms/step - loss: 0.0051 - rmse: 0.0716 - mse: 0.0051 - val_loss: 9.1781e-04 - val_rmse: 0.0303 - val_mse: 9.1781e-04\n",
            "Epoch 198/248\n",
            "36/36 [==============================] - 0s 7ms/step - loss: 0.0049 - rmse: 0.0697 - mse: 0.0049 - val_loss: 7.5681e-04 - val_rmse: 0.0275 - val_mse: 7.5681e-04\n",
            "Epoch 199/248\n",
            "36/36 [==============================] - 0s 7ms/step - loss: 0.0047 - rmse: 0.0683 - mse: 0.0047 - val_loss: 0.0015 - val_rmse: 0.0386 - val_mse: 0.0015\n",
            "Epoch 200/248\n",
            "36/36 [==============================] - 0s 8ms/step - loss: 0.0053 - rmse: 0.0731 - mse: 0.0053 - val_loss: 0.0041 - val_rmse: 0.0643 - val_mse: 0.0041\n",
            "Epoch 201/248\n",
            "36/36 [==============================] - 0s 8ms/step - loss: 0.0043 - rmse: 0.0660 - mse: 0.0043 - val_loss: 9.8947e-04 - val_rmse: 0.0315 - val_mse: 9.8947e-04\n",
            "Epoch 202/248\n",
            "36/36 [==============================] - 0s 7ms/step - loss: 0.0044 - rmse: 0.0667 - mse: 0.0044 - val_loss: 6.4432e-04 - val_rmse: 0.0254 - val_mse: 6.4432e-04\n",
            "Epoch 203/248\n",
            "36/36 [==============================] - 0s 7ms/step - loss: 0.0047 - rmse: 0.0686 - mse: 0.0047 - val_loss: 0.0023 - val_rmse: 0.0484 - val_mse: 0.0023\n",
            "Epoch 204/248\n",
            "36/36 [==============================] - 0s 7ms/step - loss: 0.0045 - rmse: 0.0674 - mse: 0.0045 - val_loss: 5.8915e-04 - val_rmse: 0.0243 - val_mse: 5.8915e-04\n",
            "Epoch 205/248\n",
            "36/36 [==============================] - 0s 8ms/step - loss: 0.0048 - rmse: 0.0691 - mse: 0.0048 - val_loss: 0.0023 - val_rmse: 0.0481 - val_mse: 0.0023\n",
            "Epoch 206/248\n",
            "36/36 [==============================] - 0s 8ms/step - loss: 0.0048 - rmse: 0.0696 - mse: 0.0048 - val_loss: 0.0031 - val_rmse: 0.0557 - val_mse: 0.0031\n",
            "Epoch 207/248\n",
            "36/36 [==============================] - 0s 8ms/step - loss: 0.0046 - rmse: 0.0677 - mse: 0.0046 - val_loss: 7.2800e-04 - val_rmse: 0.0270 - val_mse: 7.2800e-04\n",
            "Epoch 208/248\n",
            "36/36 [==============================] - 0s 7ms/step - loss: 0.0051 - rmse: 0.0716 - mse: 0.0051 - val_loss: 0.0019 - val_rmse: 0.0434 - val_mse: 0.0019\n",
            "Epoch 209/248\n",
            "36/36 [==============================] - 0s 8ms/step - loss: 0.0047 - rmse: 0.0683 - mse: 0.0047 - val_loss: 7.1214e-04 - val_rmse: 0.0267 - val_mse: 7.1214e-04\n",
            "Epoch 210/248\n",
            "36/36 [==============================] - 0s 8ms/step - loss: 0.0047 - rmse: 0.0682 - mse: 0.0047 - val_loss: 0.0019 - val_rmse: 0.0434 - val_mse: 0.0019\n",
            "Epoch 211/248\n",
            "36/36 [==============================] - 0s 9ms/step - loss: 0.0054 - rmse: 0.0737 - mse: 0.0054 - val_loss: 5.7554e-04 - val_rmse: 0.0240 - val_mse: 5.7554e-04\n",
            "Epoch 212/248\n",
            "36/36 [==============================] - 0s 9ms/step - loss: 0.0053 - rmse: 0.0728 - mse: 0.0053 - val_loss: 6.7408e-04 - val_rmse: 0.0260 - val_mse: 6.7408e-04\n",
            "Epoch 213/248\n",
            "36/36 [==============================] - 0s 7ms/step - loss: 0.0045 - rmse: 0.0672 - mse: 0.0045 - val_loss: 9.1736e-04 - val_rmse: 0.0303 - val_mse: 9.1736e-04\n",
            "Epoch 214/248\n",
            "36/36 [==============================] - 0s 8ms/step - loss: 0.0050 - rmse: 0.0711 - mse: 0.0050 - val_loss: 0.0014 - val_rmse: 0.0376 - val_mse: 0.0014\n",
            "Epoch 215/248\n",
            "36/36 [==============================] - 0s 7ms/step - loss: 0.0047 - rmse: 0.0682 - mse: 0.0047 - val_loss: 7.5164e-04 - val_rmse: 0.0274 - val_mse: 7.5164e-04\n",
            "Epoch 216/248\n",
            "36/36 [==============================] - 0s 7ms/step - loss: 0.0050 - rmse: 0.0709 - mse: 0.0050 - val_loss: 0.0034 - val_rmse: 0.0586 - val_mse: 0.0034\n",
            "Epoch 217/248\n",
            "36/36 [==============================] - 0s 7ms/step - loss: 0.0050 - rmse: 0.0708 - mse: 0.0050 - val_loss: 0.0024 - val_rmse: 0.0490 - val_mse: 0.0024\n",
            "Epoch 218/248\n",
            "36/36 [==============================] - 0s 7ms/step - loss: 0.0046 - rmse: 0.0676 - mse: 0.0046 - val_loss: 6.8218e-04 - val_rmse: 0.0261 - val_mse: 6.8218e-04\n",
            "Epoch 219/248\n",
            "36/36 [==============================] - 0s 9ms/step - loss: 0.0053 - rmse: 0.0730 - mse: 0.0053 - val_loss: 6.2132e-04 - val_rmse: 0.0249 - val_mse: 6.2132e-04\n",
            "Epoch 220/248\n",
            "36/36 [==============================] - 0s 7ms/step - loss: 0.0045 - rmse: 0.0671 - mse: 0.0045 - val_loss: 0.0029 - val_rmse: 0.0538 - val_mse: 0.0029\n",
            "Epoch 221/248\n",
            "36/36 [==============================] - 0s 7ms/step - loss: 0.0048 - rmse: 0.0694 - mse: 0.0048 - val_loss: 7.8441e-04 - val_rmse: 0.0280 - val_mse: 7.8441e-04\n",
            "Epoch 222/248\n",
            "36/36 [==============================] - 0s 8ms/step - loss: 0.0051 - rmse: 0.0713 - mse: 0.0051 - val_loss: 5.7074e-04 - val_rmse: 0.0239 - val_mse: 5.7074e-04\n",
            "Epoch 223/248\n",
            "36/36 [==============================] - 0s 8ms/step - loss: 0.0047 - rmse: 0.0686 - mse: 0.0047 - val_loss: 5.7772e-04 - val_rmse: 0.0240 - val_mse: 5.7772e-04\n",
            "Epoch 224/248\n",
            "36/36 [==============================] - 0s 8ms/step - loss: 0.0048 - rmse: 0.0691 - mse: 0.0048 - val_loss: 7.8997e-04 - val_rmse: 0.0281 - val_mse: 7.8997e-04\n",
            "Epoch 225/248\n",
            "36/36 [==============================] - 0s 8ms/step - loss: 0.0049 - rmse: 0.0699 - mse: 0.0049 - val_loss: 0.0011 - val_rmse: 0.0330 - val_mse: 0.0011\n",
            "Epoch 226/248\n",
            "36/36 [==============================] - 0s 9ms/step - loss: 0.0050 - rmse: 0.0705 - mse: 0.0050 - val_loss: 6.0738e-04 - val_rmse: 0.0246 - val_mse: 6.0738e-04\n",
            "Epoch 227/248\n",
            "36/36 [==============================] - 0s 7ms/step - loss: 0.0045 - rmse: 0.0671 - mse: 0.0045 - val_loss: 0.0024 - val_rmse: 0.0492 - val_mse: 0.0024\n",
            "Epoch 228/248\n",
            "36/36 [==============================] - 0s 8ms/step - loss: 0.0047 - rmse: 0.0685 - mse: 0.0047 - val_loss: 0.0026 - val_rmse: 0.0510 - val_mse: 0.0026\n",
            "Epoch 229/248\n",
            "36/36 [==============================] - 0s 8ms/step - loss: 0.0043 - rmse: 0.0652 - mse: 0.0043 - val_loss: 0.0033 - val_rmse: 0.0571 - val_mse: 0.0033\n",
            "Epoch 230/248\n",
            "36/36 [==============================] - 0s 9ms/step - loss: 0.0053 - rmse: 0.0731 - mse: 0.0053 - val_loss: 7.3368e-04 - val_rmse: 0.0271 - val_mse: 7.3368e-04\n",
            "Epoch 231/248\n",
            "36/36 [==============================] - 0s 7ms/step - loss: 0.0047 - rmse: 0.0684 - mse: 0.0047 - val_loss: 0.0011 - val_rmse: 0.0339 - val_mse: 0.0011\n",
            "Epoch 232/248\n",
            "36/36 [==============================] - 0s 7ms/step - loss: 0.0044 - rmse: 0.0665 - mse: 0.0044 - val_loss: 0.0018 - val_rmse: 0.0426 - val_mse: 0.0018\n",
            "Epoch 233/248\n",
            "36/36 [==============================] - 0s 9ms/step - loss: 0.0046 - rmse: 0.0680 - mse: 0.0046 - val_loss: 8.1890e-04 - val_rmse: 0.0286 - val_mse: 8.1890e-04\n",
            "Epoch 234/248\n",
            "36/36 [==============================] - 0s 7ms/step - loss: 0.0049 - rmse: 0.0701 - mse: 0.0049 - val_loss: 8.3154e-04 - val_rmse: 0.0288 - val_mse: 8.3154e-04\n",
            "Epoch 235/248\n",
            "36/36 [==============================] - 0s 8ms/step - loss: 0.0048 - rmse: 0.0692 - mse: 0.0048 - val_loss: 6.0372e-04 - val_rmse: 0.0246 - val_mse: 6.0372e-04\n",
            "Epoch 236/248\n",
            "36/36 [==============================] - 0s 7ms/step - loss: 0.0049 - rmse: 0.0703 - mse: 0.0049 - val_loss: 0.0023 - val_rmse: 0.0475 - val_mse: 0.0023\n",
            "Epoch 237/248\n",
            "36/36 [==============================] - 0s 8ms/step - loss: 0.0054 - rmse: 0.0737 - mse: 0.0054 - val_loss: 0.0025 - val_rmse: 0.0503 - val_mse: 0.0025\n",
            "Epoch 238/248\n",
            "36/36 [==============================] - 0s 8ms/step - loss: 0.0044 - rmse: 0.0662 - mse: 0.0044 - val_loss: 0.0017 - val_rmse: 0.0417 - val_mse: 0.0017\n",
            "Epoch 239/248\n",
            "36/36 [==============================] - 0s 8ms/step - loss: 0.0049 - rmse: 0.0700 - mse: 0.0049 - val_loss: 0.0016 - val_rmse: 0.0401 - val_mse: 0.0016\n",
            "Epoch 240/248\n",
            "36/36 [==============================] - 0s 8ms/step - loss: 0.0045 - rmse: 0.0667 - mse: 0.0045 - val_loss: 0.0011 - val_rmse: 0.0326 - val_mse: 0.0011\n",
            "Epoch 241/248\n",
            "36/36 [==============================] - 0s 9ms/step - loss: 0.0046 - rmse: 0.0678 - mse: 0.0046 - val_loss: 0.0013 - val_rmse: 0.0362 - val_mse: 0.0013\n",
            "Epoch 242/248\n",
            "36/36 [==============================] - 0s 9ms/step - loss: 0.0044 - rmse: 0.0664 - mse: 0.0044 - val_loss: 0.0011 - val_rmse: 0.0329 - val_mse: 0.0011\n",
            "Epoch 243/248\n",
            "36/36 [==============================] - 0s 8ms/step - loss: 0.0050 - rmse: 0.0707 - mse: 0.0050 - val_loss: 0.0010 - val_rmse: 0.0320 - val_mse: 0.0010\n",
            "Epoch 244/248\n",
            "36/36 [==============================] - 0s 8ms/step - loss: 0.0048 - rmse: 0.0694 - mse: 0.0048 - val_loss: 8.9692e-04 - val_rmse: 0.0299 - val_mse: 8.9692e-04\n",
            "Epoch 245/248\n",
            "36/36 [==============================] - 0s 7ms/step - loss: 0.0051 - rmse: 0.0711 - mse: 0.0051 - val_loss: 0.0012 - val_rmse: 0.0342 - val_mse: 0.0012\n",
            "Epoch 246/248\n",
            "36/36 [==============================] - 0s 8ms/step - loss: 0.0046 - rmse: 0.0681 - mse: 0.0046 - val_loss: 5.4831e-04 - val_rmse: 0.0234 - val_mse: 5.4831e-04\n",
            "Epoch 247/248\n",
            "36/36 [==============================] - 0s 8ms/step - loss: 0.0050 - rmse: 0.0708 - mse: 0.0050 - val_loss: 0.0050 - val_rmse: 0.0707 - val_mse: 0.0050\n",
            "Epoch 248/248\n",
            "36/36 [==============================] - 0s 8ms/step - loss: 0.0051 - rmse: 0.0715 - mse: 0.0051 - val_loss: 0.0013 - val_rmse: 0.0357 - val_mse: 0.0013\n"
          ]
        },
        {
          "output_type": "stream",
          "name": "stderr",
          "text": [
            "WARNING:absl:Found untraced functions such as lstm_cell_2_layer_call_fn, lstm_cell_2_layer_call_and_return_conditional_losses while saving (showing 2 of 2). These functions will not be directly callable after loading.\n"
          ]
        },
        {
          "output_type": "stream",
          "name": "stdout",
          "text": [
            "INFO:tensorflow:Assets written to: model1/assets\n"
          ]
        },
        {
          "output_type": "stream",
          "name": "stderr",
          "text": [
            "INFO:tensorflow:Assets written to: model1/assets\n",
            "WARNING:absl:<keras.layers.recurrent.LSTMCell object at 0x7f0bfde00410> has the same name 'LSTMCell' as a built-in Keras object. Consider renaming <class 'keras.layers.recurrent.LSTMCell'> to avoid naming conflicts when loading with `tf.keras.models.load_model`. If renaming is not possible, pass the object in the `custom_objects` parameter of the load function.\n"
          ]
        }
      ]
    },
    {
      "cell_type": "code",
      "source": [
        "plt.plot(history.history[\"loss\"])\n",
        "plt.plot(history.history[\"val_loss\"])\n",
        "\n",
        "plt.title('model loss')\n",
        "plt.ylabel('loss')\n",
        "plt.xlabel('epoch')\n",
        "plt.legend(['train loss', 'val loss'],loc='upper right')\n",
        "\n",
        "\n",
        "plt.show()"
      ],
      "metadata": {
        "colab": {
          "base_uri": "https://localhost:8080/",
          "height": 295
        },
        "id": "xzrdZfohPeQA",
        "outputId": "b4c88f13-1d3c-4aa7-f39a-f315f095fcb8"
      },
      "execution_count": null,
      "outputs": [
        {
          "output_type": "display_data",
          "data": {
            "text/plain": [
              "<Figure size 432x288 with 1 Axes>"
            ],
            "image/png": "[encoded data removed]"
          },
          "metadata": {
            "needs_background": "light"
          }
        }
      ]
    },
    {
      "cell_type": "code",
      "source": [
        "tf.keras.utils.plot_model(\n",
        "    model,\n",
        "    to_file=\"model.png\",\n",
        "    show_shapes=True,\n",
        "    show_dtype=False,\n",
        "    show_layer_names=True,\n",
        "    rankdir=\"TB\",\n",
        "    expand_nested=False,\n",
        "    dpi=96,\n",
        "    layer_range=None,\n",
        "    show_layer_activations=False,\n",
        ")"
      ],
      "metadata": {
        "id": "19hoEBomfr-g",
        "outputId": "31728501-51f7-43f9-be12-c2ead22896aa",
        "colab": {
          "base_uri": "https://localhost:8080/",
          "height": 976
        }
      },
      "execution_count": null,
      "outputs": [
        {
          "output_type": "execute_result",
          "data": {
            "text/plain": [
              "<IPython.core.display.Image object>"
            ],
            "image/png": "[encoded data removed]"
          },
          "metadata": {},
          "execution_count": 29
        }
      ]
    },
    {
      "cell_type": "code",
      "source": [
        ""
      ],
      "metadata": {
        "id": "0BNy1130N8U0"
      },
      "execution_count": null,
      "outputs": []
    },
    {
      "cell_type": "code",
      "source": [
        "model = load_model('model1')\n",
        "stock_predicted = model.predict(test_X)\n",
        "print(f\"MSE is {np.sum(np.square(stock_predicted -test_Y))/(test_Y.shape[0])}\")"
      ],
      "metadata": {
        "colab": {
          "base_uri": "https://localhost:8080/"
        },
        "id": "L3a6FjTXaE8E",
        "outputId": "f1031acd-1bac-484c-97b5-76c45c67af75"
      },
      "execution_count": null,
      "outputs": [
        {
          "output_type": "stream",
          "name": "stdout",
          "text": [
            "MSE is 0.002217707059654845\n"
          ]
        }
      ]
    },
    {
      "cell_type": "code",
      "source": [
        "test_Y_unn =  test_Y*(max_data - min_data) + (min_data)\n",
        "stock_predicted_unn = model.predict(test_X)*(max_data - min_data) + (min_data)"
      ],
      "metadata": {
        "id": "4mt8302UyHQc"
      },
      "execution_count": null,
      "outputs": []
    },
    {
      "cell_type": "code",
      "source": [
        "plt.plot(test_Y_unn)\n",
        "plt.plot(stock_predicted_unn)\n",
        "plt.title('stock price')\n",
        "plt.ylabel('stock price')\n",
        "plt.xlabel('time')\n",
        "plt.legend(['Actual Data','DWTtoNN'],loc='lower right')\n",
        "plt.show()"
      ],
      "metadata": {
        "colab": {
          "base_uri": "https://localhost:8080/",
          "height": 295
        },
        "id": "yt7wTHRAB1so",
        "outputId": "fa989850-13b4-4937-9a6c-4ad6b760136c"
      },
      "execution_count": null,
      "outputs": [
        {
          "output_type": "display_data",
          "data": {
            "text/plain": [
              "<Figure size 432x288 with 1 Axes>"
            ],
            "image/png": "[encoded data removed]"
          },
          "metadata": {
            "needs_background": "light"
          }
        }
      ]
    }
  ]
}